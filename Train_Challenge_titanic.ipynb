{
 "cells": [
  {
   "cell_type": "markdown",
   "id": "b5e33c24",
   "metadata": {},
   "source": [
    "# Train Titanic"
   ]
  },
  {
   "cell_type": "code",
   "execution_count": 177,
   "id": "10c6a0dc",
   "metadata": {},
   "outputs": [],
   "source": [
    "import pandas as pd\n",
    "import numpy as np\n",
    "import matplotlib.pyplot as plt\n",
    "import seaborn as sns\n",
    "\n",
    "from sklearn.compose import ColumnTransformer\n",
    "from sklearn.pipeline import Pipeline\n",
    "from sklearn.preprocessing import StandardScaler, OneHotEncoder\n",
    "from sklearn.model_selection import cross_val_score\n",
    "\n",
    "from sklearn.linear_model import LogisticRegression\n",
    "from sklearn.tree import DecisionTreeClassifier\n",
    "from sklearn.ensemble import RandomForestClassifier\n",
    "from sklearn.svm import SVC\n",
    "from sklearn.naive_bayes import GaussianNB\n",
    "from sklearn.linear_model import SGDClassifier\n",
    "\n",
    "from sklearn.model_selection import train_test_split\n",
    "from sklearn.model_selection import GridSearchCV\n",
    "from sklearn.metrics import classification_report\n",
    "from sklearn.metrics import confusion_matrix"
   ]
  },
  {
   "cell_type": "code",
   "execution_count": 178,
   "id": "5395bc19",
   "metadata": {},
   "outputs": [
    {
     "data": {
      "text/html": [
       "<div><div id=35cad489-5c54-4889-8f3e-e27d073bd0c4 style=\"display:none; background-color:#9D6CFF; color:white; width:200px; height:30px; padding-left:5px; border-radius:4px; flex-direction:row; justify-content:space-around; align-items:center;\" onmouseover=\"this.style.backgroundColor='#BA9BF8'\" onmouseout=\"this.style.backgroundColor='#9D6CFF'\" onclick=\"window.commands?.execute('create-mitosheet-from-dataframe-output');\">See Full Dataframe in Mito</div> <script> if (window.commands.hasCommand('create-mitosheet-from-dataframe-output')) document.getElementById('35cad489-5c54-4889-8f3e-e27d073bd0c4').style.display = 'flex' </script> <table border=\"1\" class=\"dataframe\">\n",
       "  <thead>\n",
       "    <tr style=\"text-align: right;\">\n",
       "      <th></th>\n",
       "      <th>PassengerId</th>\n",
       "      <th>Survived</th>\n",
       "      <th>Pclass</th>\n",
       "      <th>Name</th>\n",
       "      <th>Sex</th>\n",
       "      <th>Age</th>\n",
       "      <th>SibSp</th>\n",
       "      <th>Parch</th>\n",
       "      <th>Ticket</th>\n",
       "      <th>Fare</th>\n",
       "      <th>Cabin</th>\n",
       "      <th>Embarked</th>\n",
       "    </tr>\n",
       "  </thead>\n",
       "  <tbody>\n",
       "    <tr>\n",
       "      <th>0</th>\n",
       "      <td>1</td>\n",
       "      <td>0</td>\n",
       "      <td>3</td>\n",
       "      <td>Braund, Mr. Owen Harris</td>\n",
       "      <td>male</td>\n",
       "      <td>22.0</td>\n",
       "      <td>1</td>\n",
       "      <td>0</td>\n",
       "      <td>A/5 21171</td>\n",
       "      <td>7.2500</td>\n",
       "      <td>NaN</td>\n",
       "      <td>S</td>\n",
       "    </tr>\n",
       "    <tr>\n",
       "      <th>1</th>\n",
       "      <td>2</td>\n",
       "      <td>1</td>\n",
       "      <td>1</td>\n",
       "      <td>Cumings, Mrs. John Bradley (Florence Briggs Thayer)</td>\n",
       "      <td>female</td>\n",
       "      <td>38.0</td>\n",
       "      <td>1</td>\n",
       "      <td>0</td>\n",
       "      <td>PC 17599</td>\n",
       "      <td>71.2833</td>\n",
       "      <td>C85</td>\n",
       "      <td>C</td>\n",
       "    </tr>\n",
       "    <tr>\n",
       "      <th>2</th>\n",
       "      <td>3</td>\n",
       "      <td>1</td>\n",
       "      <td>3</td>\n",
       "      <td>Heikkinen, Miss. Laina</td>\n",
       "      <td>female</td>\n",
       "      <td>26.0</td>\n",
       "      <td>0</td>\n",
       "      <td>0</td>\n",
       "      <td>STON/O2. 3101282</td>\n",
       "      <td>7.9250</td>\n",
       "      <td>NaN</td>\n",
       "      <td>S</td>\n",
       "    </tr>\n",
       "    <tr>\n",
       "      <th>3</th>\n",
       "      <td>4</td>\n",
       "      <td>1</td>\n",
       "      <td>1</td>\n",
       "      <td>Futrelle, Mrs. Jacques Heath (Lily May Peel)</td>\n",
       "      <td>female</td>\n",
       "      <td>35.0</td>\n",
       "      <td>1</td>\n",
       "      <td>0</td>\n",
       "      <td>113803</td>\n",
       "      <td>53.1000</td>\n",
       "      <td>C123</td>\n",
       "      <td>S</td>\n",
       "    </tr>\n",
       "    <tr>\n",
       "      <th>4</th>\n",
       "      <td>5</td>\n",
       "      <td>0</td>\n",
       "      <td>3</td>\n",
       "      <td>Allen, Mr. William Henry</td>\n",
       "      <td>male</td>\n",
       "      <td>35.0</td>\n",
       "      <td>0</td>\n",
       "      <td>0</td>\n",
       "      <td>373450</td>\n",
       "      <td>8.0500</td>\n",
       "      <td>NaN</td>\n",
       "      <td>S</td>\n",
       "    </tr>\n",
       "  </tbody>\n",
       "</table></div>"
      ],
      "text/plain": [
       "   PassengerId  Survived  Pclass  \\\n",
       "0            1         0       3   \n",
       "1            2         1       1   \n",
       "2            3         1       3   \n",
       "3            4         1       1   \n",
       "4            5         0       3   \n",
       "\n",
       "                                                Name     Sex   Age  SibSp  \\\n",
       "0                            Braund, Mr. Owen Harris    male  22.0      1   \n",
       "1  Cumings, Mrs. John Bradley (Florence Briggs Th...  female  38.0      1   \n",
       "2                             Heikkinen, Miss. Laina  female  26.0      0   \n",
       "3       Futrelle, Mrs. Jacques Heath (Lily May Peel)  female  35.0      1   \n",
       "4                           Allen, Mr. William Henry    male  35.0      0   \n",
       "\n",
       "   Parch            Ticket     Fare Cabin Embarked  \n",
       "0      0         A/5 21171   7.2500   NaN        S  \n",
       "1      0          PC 17599  71.2833   C85        C  \n",
       "2      0  STON/O2. 3101282   7.9250   NaN        S  \n",
       "3      0            113803  53.1000  C123        S  \n",
       "4      0            373450   8.0500   NaN        S  "
      ]
     },
     "execution_count": 178,
     "metadata": {},
     "output_type": "execute_result"
    }
   ],
   "source": [
    "df=pd.read_csv(\"train_titanic.csv\")\n",
    "df.head()\n"
   ]
  },
  {
   "cell_type": "code",
   "execution_count": 179,
   "id": "098f9b69",
   "metadata": {
    "scrolled": true
   },
   "outputs": [
    {
     "data": {
      "text/html": [
       "<div><div id=ba66e545-c025-4f48-ad31-2df8223a5c61 style=\"display:none; background-color:#9D6CFF; color:white; width:200px; height:30px; padding-left:5px; border-radius:4px; flex-direction:row; justify-content:space-around; align-items:center;\" onmouseover=\"this.style.backgroundColor='#BA9BF8'\" onmouseout=\"this.style.backgroundColor='#9D6CFF'\" onclick=\"window.commands?.execute('create-mitosheet-from-dataframe-output');\">See Full Dataframe in Mito</div> <script> if (window.commands.hasCommand('create-mitosheet-from-dataframe-output')) document.getElementById('ba66e545-c025-4f48-ad31-2df8223a5c61').style.display = 'flex' </script> <table border=\"1\" class=\"dataframe\">\n",
       "  <thead>\n",
       "    <tr style=\"text-align: right;\">\n",
       "      <th></th>\n",
       "      <th>PassengerId</th>\n",
       "      <th>Survived</th>\n",
       "      <th>Pclass</th>\n",
       "      <th>Age</th>\n",
       "      <th>SibSp</th>\n",
       "      <th>Parch</th>\n",
       "      <th>Fare</th>\n",
       "    </tr>\n",
       "  </thead>\n",
       "  <tbody>\n",
       "    <tr>\n",
       "      <th>count</th>\n",
       "      <td>891.000000</td>\n",
       "      <td>891.000000</td>\n",
       "      <td>891.000000</td>\n",
       "      <td>714.000000</td>\n",
       "      <td>891.000000</td>\n",
       "      <td>891.000000</td>\n",
       "      <td>891.000000</td>\n",
       "    </tr>\n",
       "    <tr>\n",
       "      <th>mean</th>\n",
       "      <td>446.000000</td>\n",
       "      <td>0.383838</td>\n",
       "      <td>2.308642</td>\n",
       "      <td>29.699118</td>\n",
       "      <td>0.523008</td>\n",
       "      <td>0.381594</td>\n",
       "      <td>32.204208</td>\n",
       "    </tr>\n",
       "    <tr>\n",
       "      <th>std</th>\n",
       "      <td>257.353842</td>\n",
       "      <td>0.486592</td>\n",
       "      <td>0.836071</td>\n",
       "      <td>14.526497</td>\n",
       "      <td>1.102743</td>\n",
       "      <td>0.806057</td>\n",
       "      <td>49.693429</td>\n",
       "    </tr>\n",
       "    <tr>\n",
       "      <th>min</th>\n",
       "      <td>1.000000</td>\n",
       "      <td>0.000000</td>\n",
       "      <td>1.000000</td>\n",
       "      <td>0.420000</td>\n",
       "      <td>0.000000</td>\n",
       "      <td>0.000000</td>\n",
       "      <td>0.000000</td>\n",
       "    </tr>\n",
       "    <tr>\n",
       "      <th>25%</th>\n",
       "      <td>223.500000</td>\n",
       "      <td>0.000000</td>\n",
       "      <td>2.000000</td>\n",
       "      <td>20.125000</td>\n",
       "      <td>0.000000</td>\n",
       "      <td>0.000000</td>\n",
       "      <td>7.910400</td>\n",
       "    </tr>\n",
       "    <tr>\n",
       "      <th>50%</th>\n",
       "      <td>446.000000</td>\n",
       "      <td>0.000000</td>\n",
       "      <td>3.000000</td>\n",
       "      <td>28.000000</td>\n",
       "      <td>0.000000</td>\n",
       "      <td>0.000000</td>\n",
       "      <td>14.454200</td>\n",
       "    </tr>\n",
       "    <tr>\n",
       "      <th>75%</th>\n",
       "      <td>668.500000</td>\n",
       "      <td>1.000000</td>\n",
       "      <td>3.000000</td>\n",
       "      <td>38.000000</td>\n",
       "      <td>1.000000</td>\n",
       "      <td>0.000000</td>\n",
       "      <td>31.000000</td>\n",
       "    </tr>\n",
       "    <tr>\n",
       "      <th>max</th>\n",
       "      <td>891.000000</td>\n",
       "      <td>1.000000</td>\n",
       "      <td>3.000000</td>\n",
       "      <td>80.000000</td>\n",
       "      <td>8.000000</td>\n",
       "      <td>6.000000</td>\n",
       "      <td>512.329200</td>\n",
       "    </tr>\n",
       "  </tbody>\n",
       "</table></div>"
      ],
      "text/plain": [
       "       PassengerId    Survived      Pclass         Age       SibSp  \\\n",
       "count   891.000000  891.000000  891.000000  714.000000  891.000000   \n",
       "mean    446.000000    0.383838    2.308642   29.699118    0.523008   \n",
       "std     257.353842    0.486592    0.836071   14.526497    1.102743   \n",
       "min       1.000000    0.000000    1.000000    0.420000    0.000000   \n",
       "25%     223.500000    0.000000    2.000000   20.125000    0.000000   \n",
       "50%     446.000000    0.000000    3.000000   28.000000    0.000000   \n",
       "75%     668.500000    1.000000    3.000000   38.000000    1.000000   \n",
       "max     891.000000    1.000000    3.000000   80.000000    8.000000   \n",
       "\n",
       "            Parch        Fare  \n",
       "count  891.000000  891.000000  \n",
       "mean     0.381594   32.204208  \n",
       "std      0.806057   49.693429  \n",
       "min      0.000000    0.000000  \n",
       "25%      0.000000    7.910400  \n",
       "50%      0.000000   14.454200  \n",
       "75%      0.000000   31.000000  \n",
       "max      6.000000  512.329200  "
      ]
     },
     "execution_count": 179,
     "metadata": {},
     "output_type": "execute_result"
    }
   ],
   "source": [
    "df.describe()"
   ]
  },
  {
   "cell_type": "code",
   "execution_count": 180,
   "id": "f88324aa",
   "metadata": {
    "scrolled": true
   },
   "outputs": [
    {
     "name": "stdout",
     "output_type": "stream",
     "text": [
      "<class 'pandas.core.frame.DataFrame'>\n",
      "RangeIndex: 891 entries, 0 to 890\n",
      "Data columns (total 12 columns):\n",
      " #   Column       Non-Null Count  Dtype  \n",
      "---  ------       --------------  -----  \n",
      " 0   PassengerId  891 non-null    int64  \n",
      " 1   Survived     891 non-null    int64  \n",
      " 2   Pclass       891 non-null    int64  \n",
      " 3   Name         891 non-null    object \n",
      " 4   Sex          891 non-null    object \n",
      " 5   Age          714 non-null    float64\n",
      " 6   SibSp        891 non-null    int64  \n",
      " 7   Parch        891 non-null    int64  \n",
      " 8   Ticket       891 non-null    object \n",
      " 9   Fare         891 non-null    float64\n",
      " 10  Cabin        204 non-null    object \n",
      " 11  Embarked     889 non-null    object \n",
      "dtypes: float64(2), int64(5), object(5)\n",
      "memory usage: 83.7+ KB\n"
     ]
    }
   ],
   "source": [
    "df.info()\n"
   ]
  },
  {
   "cell_type": "markdown",
   "id": "e642383a",
   "metadata": {},
   "source": [
    "## Vemos valores nulls. "
   ]
  },
  {
   "cell_type": "code",
   "execution_count": 181,
   "id": "5bf8fd06",
   "metadata": {},
   "outputs": [
    {
     "name": "stdout",
     "output_type": "stream",
     "text": [
      "Valores nulls: \n",
      "\n",
      "PassengerId      0\n",
      "Survived         0\n",
      "Pclass           0\n",
      "Name             0\n",
      "Sex              0\n",
      "Age            177\n",
      "SibSp            0\n",
      "Parch            0\n",
      "Ticket           0\n",
      "Fare             0\n",
      "Cabin          687\n",
      "Embarked         2\n",
      "dtype: int64\n"
     ]
    },
    {
     "data": {
      "image/png": "[encoded data removed]",
      "text/plain": [
       "<Figure size 864x720 with 1 Axes>"
      ]
     },
     "metadata": {
      "needs_background": "light"
     },
     "output_type": "display_data"
    }
   ],
   "source": [
    "print('Valores nulls: \\n')\n",
    "print(df.isna().sum())\n",
    "plt.figure(figsize=(12,10))\n",
    "sns.heatmap(df.isna(),cbar=False)\n",
    "plt.show()"
   ]
  },
  {
   "cell_type": "markdown",
   "id": "452c7806",
   "metadata": {},
   "source": [
    "## Completamos nulls y preparamos todos los datos\n"
   ]
  },
  {
   "cell_type": "code",
   "execution_count": 182,
   "id": "45abde0c",
   "metadata": {},
   "outputs": [],
   "source": [
    "#completamos los faltantes (2) con la variable mas comun.\n",
    "df['Embarked']=df['Embarked'].fillna('S')\n",
    "#Completamos con la media \"Age\"\n",
    "col=df['Age'].fillna(df['Age'].mean())\n",
    "# y reemplazamos columna  \"Age\" x \"N_age\"\n",
    "df[\"N_age\"]=col\n",
    "df=df.drop(['Age'],axis=1)"
   ]
  },
  {
   "cell_type": "code",
   "execution_count": 183,
   "id": "85689271",
   "metadata": {},
   "outputs": [],
   "source": [
    "df1=df.copy() #dejamos listo [df] para los modelos."
   ]
  },
  {
   "cell_type": "markdown",
   "id": "4095b1a0",
   "metadata": {},
   "source": [
    "## Vemos correlacion con la variable objetivo \"Survived\"  y heatmap."
   ]
  },
  {
   "cell_type": "code",
   "execution_count": 184,
   "id": "0f0f1a3b",
   "metadata": {},
   "outputs": [
    {
     "name": "stdout",
     "output_type": "stream",
     "text": [
      "Sex           -0.543351\n",
      "Pclass        -0.338481\n",
      "N_age         -0.069809\n",
      "SibSp         -0.035322\n",
      "PassengerId   -0.005007\n",
      "Parch          0.081629\n",
      "Fare           0.257307\n",
      "Survived       1.000000\n",
      "Name: Survived, dtype: float64\n"
     ]
    },
    {
     "data": {
      "image/png": "[encoded data removed]",
      "text/plain": [
       "<Figure size 864x720 with 2 Axes>"
      ]
     },
     "metadata": {
      "needs_background": "light"
     },
     "output_type": "display_data"
    }
   ],
   "source": [
    "df1['Sex']=df1['Sex'].map({'female':0,'male':1}).astype(int)# Le damos valores numericos a la \"Sex\" para ver Correlatividad\n",
    "correlation = df1.corr()\n",
    "print(correlation[\"Survived\"].sort_values(ascending=True))\n",
    "plt.figure(figsize=(12,10))\n",
    "sns.heatmap(correlation,annot=True)\n",
    "plt.show()"
   ]
  },
  {
   "cell_type": "markdown",
   "id": "3ec1f984",
   "metadata": {},
   "source": [
    "## Vemos las dos variables con mas correlación 'Sex' y 'Pclass' \n"
   ]
  },
  {
   "cell_type": "code",
   "execution_count": 197,
   "id": "b6230daa",
   "metadata": {},
   "outputs": [
    {
     "data": {
      "image/png": "[encoded data removed]",
      "text/plain": [
       "<Figure size 1440x576 with 2 Axes>"
      ]
     },
     "metadata": {
      "needs_background": "light"
     },
     "output_type": "display_data"
    },
    {
     "name": "stdout",
     "output_type": "stream",
     "text": [
      "- de 342 passengers que sobrevivieron solo 109 eran hombres mientras que  233 eran mujeres\n",
      "- de 549 passengers que no sobrevivieron 468 eran hombres mientras que  81 eran mujeres\n",
      "- de los passengers no sobrevientes 300 eran hombres de 3ra clase, mas de una 3ra parte del total\n",
      " y mas del 50% de los no sobrevivientes\n"
     ]
    }
   ],
   "source": [
    "#preparamos variables para plot\n",
    "df['Survived']= df['Survived'].apply(lambda x: str(x).replace('0','No'))\n",
    "df['Survived']= df['Survived'].apply(lambda x: str(x).replace('1','Yes'))\n",
    "\n",
    "survived=df[df[\"Survived\"]==\"Yes\"]\n",
    "nosurvived=df[df[\"Survived\"]==\"No\"]\n",
    "\n",
    "survived_plot=survived.groupby(['Pclass','Sex']).count()['PassengerId']\n",
    "nosurvived_plot=nosurvived.groupby(['Pclass','Sex']).count()['PassengerId']\n",
    "\n",
    "male_sur=survived[survived['Sex']=='male']\n",
    "female_sur=survived[survived['Sex']=='female']\n",
    "nosur_ma=nosurvived[nosurvived['Sex']=='male']\n",
    "nosur_fe=nosurvived[nosurvived['Sex']=='female']\n",
    "nosur_ma_3=nosurvived[(nosurvived['Sex']=='male')&(nosurvived['Pclass']==3)]\n",
    "#plot\n",
    "fig,ax = plt.subplots(1,2,figsize=(20,8))\n",
    "ax = ax.ravel()\n",
    "(survived_plot.unstack(level=1)).plot.bar(cmap='Spectral',ax=ax[1])\n",
    "(nosurvived_plot.unstack(level=1)).plot.bar(cmap='winter',ax=ax[0])\n",
    "ax[1].set_title('Survided',fontsize=22)\n",
    "ax[0].set_title('No Survived',fontsize=22)\n",
    "ax[0].set_xlabel('Class',fontsize=16)\n",
    "ax[1].set_xlabel('Class',fontsize=16)\n",
    "ax[0].set_ylabel('Numbers of passengers',fontsize=16)\n",
    "plt.show()\n",
    "\n",
    "print(\"- de\", survived.shape[0], 'passengers que sobrevivieron solo', male_sur.shape[0], 'eran hombres mientras que ' ,\n",
    "      female_sur.shape[0],'eran mujeres')\n",
    "print(\"- de\", nosurvived.shape[0], 'passengers que no sobrevivieron', nosur_ma.shape[0], 'eran hombres mientras que ' ,\n",
    "      nosur_fe.shape[0],'eran mujeres')\n",
    "print(\"- de los passengers no sobrevientes\", nosur_ma_3.shape[0], 'eran hombres de 3ra clase, mas de una 3ra parte del total\\n' \n",
    "       ' y mas del 50% de los no sobrevivientes')"
   ]
  },
  {
   "cell_type": "markdown",
   "id": "46105311",
   "metadata": {},
   "source": [
    "- Vemos una gran correlacion entre la variable objetivo \"Survived\" con el grupo de datos Class=3 y Sex= male\n"
   ]
  },
  {
   "cell_type": "markdown",
   "id": "930db611",
   "metadata": {},
   "source": [
    "# Features Pipeline"
   ]
  },
  {
   "cell_type": "code",
   "execution_count": 198,
   "id": "ad8c0b20",
   "metadata": {},
   "outputs": [],
   "source": [
    "# Volvemos la variable objetivo a int64\n",
    "df['Survived'].replace('No',0,inplace=True)\n",
    "df['Survived'].replace('Yes',1,inplace=True)"
   ]
  },
  {
   "cell_type": "code",
   "execution_count": 199,
   "id": "e9b797fa",
   "metadata": {},
   "outputs": [
    {
     "data": {
      "text/html": [
       "<div><div id=4a18d2a7-020d-4657-8cc0-f35d5afb7109 style=\"display:none; background-color:#9D6CFF; color:white; width:200px; height:30px; padding-left:5px; border-radius:4px; flex-direction:row; justify-content:space-around; align-items:center;\" onmouseover=\"this.style.backgroundColor='#BA9BF8'\" onmouseout=\"this.style.backgroundColor='#9D6CFF'\" onclick=\"window.commands?.execute('create-mitosheet-from-dataframe-output');\">See Full Dataframe in Mito</div> <script> if (window.commands.hasCommand('create-mitosheet-from-dataframe-output')) document.getElementById('4a18d2a7-020d-4657-8cc0-f35d5afb7109').style.display = 'flex' </script> <table border=\"1\" class=\"dataframe\">\n",
       "  <thead>\n",
       "    <tr style=\"text-align: right;\">\n",
       "      <th></th>\n",
       "      <th>Pclass</th>\n",
       "      <th>Sex</th>\n",
       "      <th>N_age</th>\n",
       "      <th>SibSp</th>\n",
       "      <th>Parch</th>\n",
       "      <th>Fare</th>\n",
       "      <th>Embarked</th>\n",
       "    </tr>\n",
       "  </thead>\n",
       "  <tbody>\n",
       "    <tr>\n",
       "      <th>0</th>\n",
       "      <td>3</td>\n",
       "      <td>male</td>\n",
       "      <td>22.000000</td>\n",
       "      <td>1</td>\n",
       "      <td>0</td>\n",
       "      <td>7.2500</td>\n",
       "      <td>S</td>\n",
       "    </tr>\n",
       "    <tr>\n",
       "      <th>1</th>\n",
       "      <td>1</td>\n",
       "      <td>female</td>\n",
       "      <td>38.000000</td>\n",
       "      <td>1</td>\n",
       "      <td>0</td>\n",
       "      <td>71.2833</td>\n",
       "      <td>C</td>\n",
       "    </tr>\n",
       "    <tr>\n",
       "      <th>2</th>\n",
       "      <td>3</td>\n",
       "      <td>female</td>\n",
       "      <td>26.000000</td>\n",
       "      <td>0</td>\n",
       "      <td>0</td>\n",
       "      <td>7.9250</td>\n",
       "      <td>S</td>\n",
       "    </tr>\n",
       "    <tr>\n",
       "      <th>3</th>\n",
       "      <td>1</td>\n",
       "      <td>female</td>\n",
       "      <td>35.000000</td>\n",
       "      <td>1</td>\n",
       "      <td>0</td>\n",
       "      <td>53.1000</td>\n",
       "      <td>S</td>\n",
       "    </tr>\n",
       "    <tr>\n",
       "      <th>4</th>\n",
       "      <td>3</td>\n",
       "      <td>male</td>\n",
       "      <td>35.000000</td>\n",
       "      <td>0</td>\n",
       "      <td>0</td>\n",
       "      <td>8.0500</td>\n",
       "      <td>S</td>\n",
       "    </tr>\n",
       "    <tr>\n",
       "      <th>...</th>\n",
       "      <td>...</td>\n",
       "      <td>...</td>\n",
       "      <td>...</td>\n",
       "      <td>...</td>\n",
       "      <td>...</td>\n",
       "      <td>...</td>\n",
       "      <td>...</td>\n",
       "    </tr>\n",
       "    <tr>\n",
       "      <th>886</th>\n",
       "      <td>2</td>\n",
       "      <td>male</td>\n",
       "      <td>27.000000</td>\n",
       "      <td>0</td>\n",
       "      <td>0</td>\n",
       "      <td>13.0000</td>\n",
       "      <td>S</td>\n",
       "    </tr>\n",
       "    <tr>\n",
       "      <th>887</th>\n",
       "      <td>1</td>\n",
       "      <td>female</td>\n",
       "      <td>19.000000</td>\n",
       "      <td>0</td>\n",
       "      <td>0</td>\n",
       "      <td>30.0000</td>\n",
       "      <td>S</td>\n",
       "    </tr>\n",
       "    <tr>\n",
       "      <th>888</th>\n",
       "      <td>3</td>\n",
       "      <td>female</td>\n",
       "      <td>29.699118</td>\n",
       "      <td>1</td>\n",
       "      <td>2</td>\n",
       "      <td>23.4500</td>\n",
       "      <td>S</td>\n",
       "    </tr>\n",
       "    <tr>\n",
       "      <th>889</th>\n",
       "      <td>1</td>\n",
       "      <td>male</td>\n",
       "      <td>26.000000</td>\n",
       "      <td>0</td>\n",
       "      <td>0</td>\n",
       "      <td>30.0000</td>\n",
       "      <td>C</td>\n",
       "    </tr>\n",
       "    <tr>\n",
       "      <th>890</th>\n",
       "      <td>3</td>\n",
       "      <td>male</td>\n",
       "      <td>32.000000</td>\n",
       "      <td>0</td>\n",
       "      <td>0</td>\n",
       "      <td>7.7500</td>\n",
       "      <td>Q</td>\n",
       "    </tr>\n",
       "  </tbody>\n",
       "</table></div>"
      ],
      "text/plain": [
       "     Pclass     Sex      N_age  SibSp  Parch     Fare Embarked\n",
       "0         3    male  22.000000      1      0   7.2500        S\n",
       "1         1  female  38.000000      1      0  71.2833        C\n",
       "2         3  female  26.000000      0      0   7.9250        S\n",
       "3         1  female  35.000000      1      0  53.1000        S\n",
       "4         3    male  35.000000      0      0   8.0500        S\n",
       "..      ...     ...        ...    ...    ...      ...      ...\n",
       "886       2    male  27.000000      0      0  13.0000        S\n",
       "887       1  female  19.000000      0      0  30.0000        S\n",
       "888       3  female  29.699118      1      2  23.4500        S\n",
       "889       1    male  26.000000      0      0  30.0000        C\n",
       "890       3    male  32.000000      0      0   7.7500        Q\n",
       "\n",
       "[891 rows x 7 columns]"
      ]
     },
     "execution_count": 199,
     "metadata": {},
     "output_type": "execute_result"
    }
   ],
   "source": [
    "#Separamos Variables\n",
    "y=df['Survived']\n",
    "X=df[['Pclass','Sex','N_age','SibSp','Parch','Fare','Embarked']]\n",
    "X"
   ]
  },
  {
   "cell_type": "code",
   "execution_count": 200,
   "id": "08e9ba02",
   "metadata": {
    "scrolled": true
   },
   "outputs": [
    {
     "name": "stdout",
     "output_type": "stream",
     "text": [
      "Scores:\n",
      "\n",
      "LogisticRegression: 0.787\n",
      "SGDClassifier: 0.779\n",
      "DecisionTreeClassifier: 0.768\n",
      "RandomForestClassifier: 0.808\n",
      "SVC: 0.828\n",
      "GaussianNB: 0.789\n"
     ]
    }
   ],
   "source": [
    "# Identificación de columnas numéricas y categóricas\n",
    "numeric_cols = X.select_dtypes(include=['float64', 'int']).columns.to_list()\n",
    "cat_cols = X.select_dtypes(include=['object']).columns.to_list()\n",
    "\n",
    "\n",
    "numeric_transformer = Pipeline(steps=[\n",
    "           ('scaler', StandardScaler())\n",
    "])\n",
    "categorical_transformer = Pipeline(steps=[                                 \n",
    "    ('onehot', OneHotEncoder(handle_unknown='ignore'))\n",
    "])\n",
    "    \n",
    "preprocessor = ColumnTransformer(\n",
    "                    transformers=[\n",
    "                        ('numeric', numeric_transformer, numeric_cols),\n",
    "                        ('cat', categorical_transformer, cat_cols)\n",
    "])\n",
    "\n",
    "# Modelos a aplicar\n",
    "modelos = [\n",
    "    LogisticRegression(random_state=40), \n",
    "    SGDClassifier(random_state=40),\n",
    "    DecisionTreeClassifier(random_state=40), \n",
    "    RandomForestClassifier(random_state=80),\n",
    "    SVC(),\n",
    "    GaussianNB()\n",
    "]\n",
    "\n",
    "# Pipeline\n",
    "print('Scores:\\n')\n",
    "for model in modelos:\n",
    "    pipe = Pipeline(steps=[('preprocessor', preprocessor),\n",
    "                            ('clasiffier', model)])\n",
    "\n",
    "    pipe.fit(X,y)\n",
    "    scores = cross_val_score(pipe, X, y, cv=5, scoring = \"accuracy\")\n",
    "    nombre_model = str(model).split(\"(\")[0]   \n",
    "    print(f'{nombre_model}: {np.round(scores.mean(),3)}')\n",
    "\n",
    "\n"
   ]
  },
  {
   "cell_type": "code",
   "execution_count": 201,
   "id": "b84044a1",
   "metadata": {},
   "outputs": [],
   "source": [
    "# Separamos datos para entrenar \n",
    "X_train, X_test, y_train, y_test= train_test_split(X,y,test_size=0.25, random_state=42)\n"
   ]
  },
  {
   "cell_type": "code",
   "execution_count": 202,
   "id": "ebc0d992",
   "metadata": {},
   "outputs": [],
   "source": [
    "# onehot/scaler , instancias\n",
    "scaler= StandardScaler()\n",
    "onehot= OneHotEncoder(sparse=False)\n",
    "\n",
    "# preparamos columnas\n",
    "scaled_col_train= scaler.fit_transform(X_train[numeric_cols]) \n",
    "onehot_col_train=  onehot.fit_transform(X_train[cat_cols])\n",
    "\n",
    "scaled_col_test = scaler.transform(X_test[numeric_cols]) \n",
    "onehot_col_test=  onehot.transform(X_test[cat_cols])\n",
    "\n",
    "# juntamos train and test\n",
    "X_train=np.concatenate([scaled_col_train, onehot_col_train],axis=1)\n",
    "X_test=np.concatenate([scaled_col_test, onehot_col_test], axis=1)"
   ]
  },
  {
   "cell_type": "markdown",
   "id": "39d1e3ea",
   "metadata": {},
   "source": [
    "## Cross validation (SVC best score)"
   ]
  },
  {
   "cell_type": "code",
   "execution_count": 205,
   "id": "75c2954e",
   "metadata": {},
   "outputs": [
    {
     "name": "stdout",
     "output_type": "stream",
     "text": [
      "best estimator:\n",
      "SVC(C=10, gamma=0.1) \n",
      "\n",
      "best Score:\n",
      "0.8248344742453148\n"
     ]
    }
   ],
   "source": [
    "parametros={'C': [0.1,1, 10, 100], 'gamma': [1,0.1,0.01,0.001],'kernel': ['linear','rbf', 'poly']}\n",
    "svc_grid=GridSearchCV(SVC(),parametros, cv=5)\n",
    "svc_grid.fit(X_train, y_train)\n",
    "print('best estimator:')\n",
    "print(svc_grid.best_estimator_,'\\n')\n",
    "print('best Score:')\n",
    "print(svc_grid.best_score_)"
   ]
  },
  {
   "cell_type": "markdown",
   "id": "4633c36b",
   "metadata": {},
   "source": [
    "## Confusion Matrix"
   ]
  },
  {
   "cell_type": "code",
   "execution_count": 206,
   "id": "e5033bc4",
   "metadata": {},
   "outputs": [
    {
     "data": {
      "image/png": "[encoded data removed]",
      "text/plain": [
       "<Figure size 864x576 with 1 Axes>"
      ]
     },
     "metadata": {
      "needs_background": "light"
     },
     "output_type": "display_data"
    }
   ],
   "source": [
    "y_pred=svc_grid.predict(X_test)\n",
    "matrix= confusion_matrix(y_test, y_pred,normalize='true')\n",
    "#plot\n",
    "fig,ax = plt.subplots(figsize=(12,8))\n",
    "ax = sns.heatmap(matrix,annot=True,cbar= False,cmap='winter',annot_kws={\"fontsize\":12})\n",
    "ax.set_xlabel(\"Predicted\",fontsize='17')\n",
    "ax.set_ylabel(\"Actual\",fontsize='17')\n",
    "ax.set_xticklabels(['No Survive','Survive'])\n",
    "ax.set_yticklabels(['No Survive','Survive'],fontdict={'verticalalignment': 'center'})\n",
    "ax.set_title('Confusion Matrix (normalize)',fontsize='20')\n",
    "plt.show()"
   ]
  },
  {
   "cell_type": "code",
   "execution_count": 141,
   "id": "aab54459",
   "metadata": {},
   "outputs": [
    {
     "name": "stdout",
     "output_type": "stream",
     "text": [
      "Precision Global:\n",
      "\n",
      "0.805\n"
     ]
    }
   ],
   "source": [
    "#Calculamos precision global con la matrix de camfusion\n",
    "Precision_global=np.sum(matrix.diagonal())/np.sum(matrix)\n",
    "print('Precision Global:\\n')\n",
    "print(round(Precision_global,3))\n"
   ]
  },
  {
   "cell_type": "markdown",
   "id": "b86be1f6",
   "metadata": {},
   "source": [
    "-------------------------------------------------------------------------\n",
    "## The Challenge\n",
    "Submission File Format:\n",
    "\n",
    "You should submit a csv file with exactly 418 entries plus a header row. Your submission will show an error if you have extra columns (beyond PassengerId and Survived) or rows.\n",
    "\n",
    "The file should have exactly 2 columns:\n",
    "\n",
    "- PassengerId (sorted in any order)\n",
    "- Survived (contains your binary predictions: 1 for survived, 0 for deceased)"
   ]
  },
  {
   "cell_type": "code",
   "execution_count": 208,
   "id": "518c44ed",
   "metadata": {},
   "outputs": [
    {
     "data": {
      "text/html": [
       "<div><div id=708131b3-1250-46ba-90ab-fb72c4d48e1c style=\"display:none; background-color:#9D6CFF; color:white; width:200px; height:30px; padding-left:5px; border-radius:4px; flex-direction:row; justify-content:space-around; align-items:center;\" onmouseover=\"this.style.backgroundColor='#BA9BF8'\" onmouseout=\"this.style.backgroundColor='#9D6CFF'\" onclick=\"window.commands?.execute('create-mitosheet-from-dataframe-output');\">See Full Dataframe in Mito</div> <script> if (window.commands.hasCommand('create-mitosheet-from-dataframe-output')) document.getElementById('708131b3-1250-46ba-90ab-fb72c4d48e1c').style.display = 'flex' </script> <table border=\"1\" class=\"dataframe\">\n",
       "  <thead>\n",
       "    <tr style=\"text-align: right;\">\n",
       "      <th></th>\n",
       "      <th>PassengerId</th>\n",
       "      <th>Pclass</th>\n",
       "      <th>Name</th>\n",
       "      <th>Sex</th>\n",
       "      <th>Age</th>\n",
       "      <th>SibSp</th>\n",
       "      <th>Parch</th>\n",
       "      <th>Ticket</th>\n",
       "      <th>Fare</th>\n",
       "      <th>Cabin</th>\n",
       "      <th>Embarked</th>\n",
       "    </tr>\n",
       "  </thead>\n",
       "  <tbody>\n",
       "    <tr>\n",
       "      <th>0</th>\n",
       "      <td>892</td>\n",
       "      <td>3</td>\n",
       "      <td>Kelly, Mr. James</td>\n",
       "      <td>male</td>\n",
       "      <td>34.5</td>\n",
       "      <td>0</td>\n",
       "      <td>0</td>\n",
       "      <td>330911</td>\n",
       "      <td>7.8292</td>\n",
       "      <td>NaN</td>\n",
       "      <td>Q</td>\n",
       "    </tr>\n",
       "    <tr>\n",
       "      <th>1</th>\n",
       "      <td>893</td>\n",
       "      <td>3</td>\n",
       "      <td>Wilkes, Mrs. James (Ellen Needs)</td>\n",
       "      <td>female</td>\n",
       "      <td>47.0</td>\n",
       "      <td>1</td>\n",
       "      <td>0</td>\n",
       "      <td>363272</td>\n",
       "      <td>7.0000</td>\n",
       "      <td>NaN</td>\n",
       "      <td>S</td>\n",
       "    </tr>\n",
       "  </tbody>\n",
       "</table></div>"
      ],
      "text/plain": [
       "   PassengerId  Pclass                              Name     Sex   Age  SibSp  \\\n",
       "0          892       3                  Kelly, Mr. James    male  34.5      0   \n",
       "1          893       3  Wilkes, Mrs. James (Ellen Needs)  female  47.0      1   \n",
       "\n",
       "   Parch  Ticket    Fare Cabin Embarked  \n",
       "0      0  330911  7.8292   NaN        Q  \n",
       "1      0  363272  7.0000   NaN        S  "
      ]
     },
     "execution_count": 208,
     "metadata": {},
     "output_type": "execute_result"
    }
   ],
   "source": [
    "df_test=pd.read_csv(\"test_titanic.csv\")\n",
    "df_test.head(2)\n"
   ]
  },
  {
   "cell_type": "code",
   "execution_count": 209,
   "id": "e899b53a",
   "metadata": {},
   "outputs": [
    {
     "name": "stdout",
     "output_type": "stream",
     "text": [
      "<class 'pandas.core.frame.DataFrame'>\n",
      "RangeIndex: 418 entries, 0 to 417\n",
      "Data columns (total 11 columns):\n",
      " #   Column       Non-Null Count  Dtype  \n",
      "---  ------       --------------  -----  \n",
      " 0   PassengerId  418 non-null    int64  \n",
      " 1   Pclass       418 non-null    int64  \n",
      " 2   Name         418 non-null    object \n",
      " 3   Sex          418 non-null    object \n",
      " 4   Age          332 non-null    float64\n",
      " 5   SibSp        418 non-null    int64  \n",
      " 6   Parch        418 non-null    int64  \n",
      " 7   Ticket       418 non-null    object \n",
      " 8   Fare         417 non-null    float64\n",
      " 9   Cabin        91 non-null     object \n",
      " 10  Embarked     418 non-null    object \n",
      "dtypes: float64(2), int64(4), object(5)\n",
      "memory usage: 36.0+ KB\n"
     ]
    }
   ],
   "source": [
    "df_test.info()"
   ]
  },
  {
   "cell_type": "markdown",
   "id": "0eb1ee1b",
   "metadata": {},
   "source": [
    "## Preparamos y dejamos listos los datos para la predicción\n"
   ]
  },
  {
   "cell_type": "code",
   "execution_count": 210,
   "id": "dbf87383",
   "metadata": {},
   "outputs": [],
   "source": [
    "#Completamos con la media \"Age\"\n",
    "col=df_test['Age'].fillna(df_test['Age'].mean())\n",
    "# y reemplazamos columna  \"Age\" x \"N_age\"\n",
    "df_test[\"N_age\"]=col\n",
    "df_test=df_test.drop(['Age'],axis=1)\n",
    "df_test['Fare']=df_test['Fare'].fillna(df_test['Fare'].mean())"
   ]
  },
  {
   "cell_type": "code",
   "execution_count": 211,
   "id": "41e59e3d",
   "metadata": {},
   "outputs": [],
   "source": [
    "#selección de columnas\n",
    "X_df_test=df_test[['Pclass','Sex','N_age','SibSp','Parch','Fare','Embarked']]"
   ]
  },
  {
   "cell_type": "code",
   "execution_count": 212,
   "id": "35bc0097",
   "metadata": {},
   "outputs": [],
   "source": [
    "cat_col=['Sex', 'Embarked']\n",
    "num_cols=['Pclass','N_age','SibSp','Parch','Fare']\n",
    "# onehot/scaler , instancias\n",
    "scaler= StandardScaler()\n",
    "onehot= OneHotEncoder(sparse=False)\n",
    "\n",
    "# preparamos columnas\n",
    "scaled_col= scaler.fit_transform(X_df_test[num_cols]) \n",
    "onehot_col=  onehot.fit_transform(X_df_test[cat_col])\n",
    "\n",
    "# concatenamos\n",
    "X_df_test=np.concatenate([scaled_col, onehot_col],axis=1)"
   ]
  },
  {
   "cell_type": "code",
   "execution_count": 213,
   "id": "c87ed78f",
   "metadata": {},
   "outputs": [],
   "source": [
    "#predecimos con nuestro modelo entrenado\n",
    "predition=pd.Series(svc_grid.predict(X_df_test))\n",
    "df_test['Survived']= predition\n"
   ]
  },
  {
   "cell_type": "code",
   "execution_count": 214,
   "id": "8794e4cb",
   "metadata": {},
   "outputs": [],
   "source": [
    "Submission=df_test[['PassengerId','Survived']]\n",
    "Submission.head(10)\n",
    "Submission.to_csv('Submission_kaggle.csv', index= False)"
   ]
  },
  {
   "cell_type": "markdown",
   "id": "c675dcc9",
   "metadata": {},
   "source": [
    "## Submission_kaggle.csv\n",
    "Submitted by Martin Ezequiel· Submitted an hour ago\n",
    "\n",
    "Score: 0.77272"
   ]
  }
 ],
 "metadata": {
  "kernelspec": {
   "display_name": "Python 3 (ipykernel)",
   "language": "python",
   "name": "python3"
  },
  "language_info": {
   "codemirror_mode": {
    "name": "ipython",
    "version": 3
   },
   "file_extension": ".py",
   "mimetype": "text/x-python",
   "name": "python",
   "nbconvert_exporter": "python",
   "pygments_lexer": "ipython3",
   "version": "3.9.7"
  },
  "nbTranslate": {
   "displayLangs": [
    "*"
   ],
   "hotkey": "alt-t",
   "langInMainMenu": true,
   "sourceLang": "en",
   "targetLang": "fr",
   "useGoogleTranslate": true
  }
 },
 "nbformat": 4,
 "nbformat_minor": 5
}
